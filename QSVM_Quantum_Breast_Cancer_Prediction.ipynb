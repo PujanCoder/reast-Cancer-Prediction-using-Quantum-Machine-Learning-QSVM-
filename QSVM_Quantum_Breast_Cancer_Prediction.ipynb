{
 "cells": [
  {
   "cell_type": "code",
   "execution_count": 1,
   "id": "368f3c78-d438-419b-97b7-f3d0e9ed4af9",
   "metadata": {},
   "outputs": [],
   "source": [
    "import matplotlib.pyplot as plt\n",
    "import qiskit\n",
    "from qiskit import QuantumCircuit, generate_preset_pass_manager\n",
    "from qiskit.visualization import plot_histogram\n",
    "from qiskit.quantum_info import SparsePauliOp\n",
    "\n",
    "from qiskit_ibm_runtime import QiskitRuntimeService, SamplerV2 as Sampler, EstimatorV2 as Estimator\n",
    "\n",
    "from qiskit_aer import AerSimulator\n",
    "import matplotlib.pyplot as plt\n"
   ]
  },
  {
   "cell_type": "code",
   "execution_count": 2,
   "id": "b220cfe4-1ca1-4040-a23c-57d88fb1e6bf",
   "metadata": {},
   "outputs": [
    {
     "name": "stdout",
     "output_type": "stream",
     "text": [
      "   mean radius  mean texture  mean perimeter  mean area  mean smoothness  \\\n",
      "0        17.99         10.38          122.80     1001.0          0.11840   \n",
      "1        20.57         17.77          132.90     1326.0          0.08474   \n",
      "2        19.69         21.25          130.00     1203.0          0.10960   \n",
      "3        11.42         20.38           77.58      386.1          0.14250   \n",
      "4        20.29         14.34          135.10     1297.0          0.10030   \n",
      "\n",
      "   mean compactness  mean concavity  mean concave points  mean symmetry  \\\n",
      "0           0.27760          0.3001              0.14710         0.2419   \n",
      "1           0.07864          0.0869              0.07017         0.1812   \n",
      "2           0.15990          0.1974              0.12790         0.2069   \n",
      "3           0.28390          0.2414              0.10520         0.2597   \n",
      "4           0.13280          0.1980              0.10430         0.1809   \n",
      "\n",
      "   mean fractal dimension  ...  worst texture  worst perimeter  worst area  \\\n",
      "0                 0.07871  ...          17.33           184.60      2019.0   \n",
      "1                 0.05667  ...          23.41           158.80      1956.0   \n",
      "2                 0.05999  ...          25.53           152.50      1709.0   \n",
      "3                 0.09744  ...          26.50            98.87       567.7   \n",
      "4                 0.05883  ...          16.67           152.20      1575.0   \n",
      "\n",
      "   worst smoothness  worst compactness  worst concavity  worst concave points  \\\n",
      "0            0.1622             0.6656           0.7119                0.2654   \n",
      "1            0.1238             0.1866           0.2416                0.1860   \n",
      "2            0.1444             0.4245           0.4504                0.2430   \n",
      "3            0.2098             0.8663           0.6869                0.2575   \n",
      "4            0.1374             0.2050           0.4000                0.1625   \n",
      "\n",
      "   worst symmetry  worst fractal dimension  target  \n",
      "0          0.4601                  0.11890       0  \n",
      "1          0.2750                  0.08902       0  \n",
      "2          0.3613                  0.08758       0  \n",
      "3          0.6638                  0.17300       0  \n",
      "4          0.2364                  0.07678       0  \n",
      "\n",
      "[5 rows x 31 columns]\n"
     ]
    }
   ],
   "source": [
    "from sklearn.datasets import load_breast_cancer\n",
    "import pandas as pd\n",
    "\n",
    "# Load the dataset\n",
    "data = load_breast_cancer()\n",
    "\n",
    "# Convert to a pandas DataFrame for easier manipulation\n",
    "df = pd.DataFrame(data.data, columns=data.feature_names)\n",
    "df['target'] = data.target\n",
    "\n",
    "# Display the first few rows\n",
    "print(df.head())\n"
   ]
  },
  {
   "cell_type": "code",
   "execution_count": 3,
   "id": "8bfa5fa0-312e-4dc9-92e7-2f447ce69214",
   "metadata": {},
   "outputs": [],
   "source": [
    "from sklearn.model_selection import train_test_split\n",
    "from sklearn.preprocessing import StandardScaler\n",
    "from qiskit_machine_learning.algorithms import QSVC\n",
    "from qiskit_machine_learning.kernels import FidelityQuantumKernel\n",
    "from qiskit.circuit.library import ZZFeatureMap\n"
   ]
  },
  {
   "cell_type": "code",
   "execution_count": 4,
   "id": "ba43adcf-7033-4b9c-a4bb-713c49c4305f",
   "metadata": {},
   "outputs": [],
   "source": [
    "# Load dataset from sklearn\n",
    "data = load_breast_cancer()\n",
    "X, y = data.data, data.target\n",
    "\n",
    "# Use only first 2 features for quick demo (quantum circuits get heavy with >3 features)\n",
    "X = X[:, :2]\n",
    "\n",
    "# Split dataset\n",
    "X_train, X_test, y_train, y_test = train_test_split(X, y, test_size=0.2, random_state=42)\n",
    "\n",
    "# Normalize features\n",
    "scaler = StandardScaler()\n",
    "X_train = scaler.fit_transform(X_train)\n",
    "X_test = scaler.transform(X_test)\n"
   ]
  },
  {
   "cell_type": "code",
   "execution_count": 5,
   "id": "2192647d-1d04-422c-853b-e3986e6576d9",
   "metadata": {},
   "outputs": [],
   "source": [
    "# 2D feature map (since we use 2 features)\n",
    "feature_map = ZZFeatureMap(feature_dimension=2, reps=2)\n"
   ]
  },
  {
   "cell_type": "code",
   "execution_count": null,
   "id": "85a2615d-51eb-4ec9-b06f-d9647981b3f4",
   "metadata": {},
   "outputs": [],
   "source": [
    "# Quantum kernel using fidelity\n",
    "quantum_kernel = FidelityQuantumKernel(feature_map=feature_map)\n",
    "\n",
    "# Quantum SVM classifier\n",
    "qsvc = QSVC(quantum_kernel=quantum_kernel)\n",
    "X_small = X_train[:30]\n",
    "y_small = y_train[:30]\n",
    "qsvc.fit(X_small, y_small)\n",
    "\n",
    "# Train\n",
    "qsvc.fit(X_train, y_train)\n",
    "\n",
    "# Test accuracy\n",
    "score = qsvc.score(X_test, y_test)\n",
    "print(\"QSVC Accuracy:\", score)\n"
   ]
  },
  {
   "cell_type": "code",
   "execution_count": null,
   "id": "f3f057df-9263-463d-bcbb-b10c9f0303d2",
   "metadata": {},
   "outputs": [],
   "source": [
    "import numpy as np\n",
    "\n",
    "# Create meshgrid\n",
    "xx, yy = np.meshgrid(np.linspace(X[:,0].min(), X[:,0].max(), 50),\n",
    "                     np.linspace(X[:,1].min(), X[:,1].max(), 50))\n",
    "\n",
    "grid = np.c_[xx.ravel(), yy.ravel()]\n",
    "grid = scaler.transform(grid)\n",
    "\n",
    "# Predict\n",
    "Z = qsvc.predict(grid)\n",
    "Z = Z.reshape(xx.shape)\n",
    "\n",
    "# Plot decision boundary\n",
    "plt.contourf(xx, yy, Z, alpha=0.3)\n",
    "plt.scatter(X_train[:,0], X_train[:,1], c=y_train, edgecolors='k')\n",
    "plt.title(\"Quantum SVM Decision Boundary\")\n",
    "plt.show()\n"
   ]
  }
 ],
 "metadata": {
  "kernelspec": {
   "display_name": "Python 3 (ipykernel)",
   "language": "python",
   "name": "python3"
  },
  "language_info": {
   "codemirror_mode": {
    "name": "ipython",
    "version": 3
   },
   "file_extension": ".py",
   "mimetype": "text/x-python",
   "name": "python",
   "nbconvert_exporter": "python",
   "pygments_lexer": "ipython3",
   "version": "3.13.5"
  }
 },
 "nbformat": 4,
 "nbformat_minor": 5
}
